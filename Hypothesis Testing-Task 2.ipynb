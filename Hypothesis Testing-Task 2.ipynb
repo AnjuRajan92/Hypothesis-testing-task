{
 "cells": [
  {
   "cell_type": "markdown",
   "id": "2759c0aa",
   "metadata": {},
   "source": [
    "1.Suppose a child psychologist says that the average time that working mothers spend talking to their children is at-least 11 minutes per day. You want to test.\n",
    "You conduct a random sample of 1000 working mothers and find they spend an average of 11.5 minutes per day talking with their children. Assume prior research suggests the population standard deviation is 2.3 minutes."
   ]
  },
  {
   "cell_type": "markdown",
   "id": "ad4c9528",
   "metadata": {},
   "source": [
    "Null hypothesis(H0):average time that working mothers spend talking to their children is less than 11 minutes per day\n",
    "                    (μ < 11).)\n",
    "\n",
    "Alternative hypothesis(Ha):average time that working mothers spend talking to their children is at least 11 minutes\n",
    "                           per day (μ>=11)\n",
    "\n",
    "Significance level alpha(α) is 0.05\n",
    "\n",
    "This case sample mean and population standard deviation is known\n",
    "\n",
    "sample mean(x̄)=11.5\n",
    "population standard deviation(σ)=2.3"
   ]
  },
  {
   "cell_type": "code",
   "execution_count": 5,
   "id": "a7adcc96",
   "metadata": {},
   "outputs": [
    {
     "name": "stdout",
     "output_type": "stream",
     "text": [
      "Z score: 0.2173913043478261\n"
     ]
    }
   ],
   "source": [
    "# calculate the test statistics, z_score=x̄-μ /σ\n",
    "Z_score=(11.5-11)/2.3\n",
    "print(\"Z score:\",Z_score)"
   ]
  },
  {
   "cell_type": "markdown",
   "id": "c0d135cc",
   "metadata": {},
   "source": [
    "If we use a significance level of α = 0.05, we would fail to reject the null hypothesis of our hypothesis test because this Z-Score is not less than 0.05."
   ]
  },
  {
   "cell_type": "markdown",
   "id": "a4a41753",
   "metadata": {},
   "source": [
    "Task2"
   ]
  },
  {
   "cell_type": "markdown",
   "id": "6fed1676",
   "metadata": {},
   "source": [
    "2.A coffee shop claims that their average wait time for customers is less than 5 minutes. To test this claim, a sample of 40 customers is taken, and their wait times are recorded. The sample mean wait time is found to be 4.6 minutes with a standard deviation of 0.8 minutes. Perform a hypothesis test at a significance level of 0.05 and determine whether there is enough evidence to support the coffee shop's claim.\n",
    "Perform the hypothesis testing using correct test statistics and appropriate critical value"
   ]
  },
  {
   "cell_type": "markdown",
   "id": "4e0a7a9b",
   "metadata": {},
   "source": [
    "Null hypothesis(H0)=average wait time for customers is grater than 5 minutes(μ>5)\n",
    "\n",
    "Alternate hypothesis=average wait time for customers is less than 5 minutes(μ<5)\n",
    "\n",
    "\n",
    "significance level (α) is 0.05\n",
    "\n",
    "This case sample mean,standard deviation and sample size are known\n",
    "Sample mean (x̄) = 4.6 minutes\n",
    "\n",
    "Sample standard deviation (s) = 0.8 minutes\n",
    "\n",
    "Sample size (n) = 40\n"
   ]
  },
  {
   "cell_type": "code",
   "execution_count": 12,
   "id": "56daa477",
   "metadata": {},
   "outputs": [
    {
     "data": {
      "text/plain": [
       "-3.162277660168382"
      ]
     },
     "execution_count": 12,
     "metadata": {},
     "output_type": "execute_result"
    }
   ],
   "source": [
    "# calculate the test statistics\n",
    "t=(4.6-5)/(0.8/(40**0.5))\n",
    "t"
   ]
  },
  {
   "cell_type": "markdown",
   "id": "8d796fe5",
   "metadata": {},
   "source": [
    "# comparing the significance level\n",
    "the critical value is -1.6849 in the right tailed.so the test statistics is less than critical value in this case we would failed to reject null hypothesis "
   ]
  },
  {
   "cell_type": "code",
   "execution_count": null,
   "id": "f462764b",
   "metadata": {},
   "outputs": [],
   "source": []
  }
 ],
 "metadata": {
  "kernelspec": {
   "display_name": "Python 3 (ipykernel)",
   "language": "python",
   "name": "python3"
  },
  "language_info": {
   "codemirror_mode": {
    "name": "ipython",
    "version": 3
   },
   "file_extension": ".py",
   "mimetype": "text/x-python",
   "name": "python",
   "nbconvert_exporter": "python",
   "pygments_lexer": "ipython3",
   "version": "3.11.2"
  }
 },
 "nbformat": 4,
 "nbformat_minor": 5
}
